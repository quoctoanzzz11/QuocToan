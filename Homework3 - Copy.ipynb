{
 "cells": [
  {
   "cell_type": "code",
   "execution_count": 2,
   "metadata": {},
   "outputs": [],
   "source": [
    "import findspark\n",
    "findspark.init()\n",
    "import pyspark\n",
    "from pyspark.sql import SparkSession\n",
    "from pyspark.sql.functions import *"
   ]
  },
  {
   "cell_type": "code",
   "execution_count": 3,
   "metadata": {},
   "outputs": [],
   "source": [
    "spark = SparkSession.builder.config(\"spark.driver.memory\",\"2g\").getOrCreate()"
   ]
  },
  {
   "cell_type": "code",
   "execution_count": 4,
   "metadata": {},
   "outputs": [],
   "source": [
    "ds = spark.read.json('E:\\\\log_content\\\\20220401.json')"
   ]
  },
  {
   "cell_type": "code",
   "execution_count": 5,
   "metadata": {},
   "outputs": [
    {
     "name": "stdout",
     "output_type": "stream",
     "text": [
      "+--------------------+-------+------+--------------------+-----+\n",
      "|                 _id| _index|_score|             _source|_type|\n",
      "+--------------------+-------+------+--------------------+-----+\n",
      "|AX_momhia1FFivsGrn9o|history|     0|{KPLUS, HNH579912...|kplus|\n",
      "|AX_momhca1FFivsGrnvg|history|     0|{KPLUS, HUFD40665...|kplus|\n",
      "|AX_momhaa1FFivsGrnny|history|     0|{KPLUS, HNH572635...|kplus|\n",
      "|AX_momhca1FFivsGrnvv|history|     0|{KPLUS, HND141717...|kplus|\n",
      "|AX_momhia1FFivsGrn98|history|     0|{KPLUS, HNH743103...|kplus|\n",
      "|AX_momg9a1FFivsGrnkS|history|     0|{KPLUS, HNH893773...|kplus|\n",
      "|AX_momhca1FFivsGrnwA|history|     0|{KPLUS, HND083642...|kplus|\n",
      "|AX_momhfa1FFivsGrn2u|history|     0|{KPLUS, DNFD74404...|kplus|\n",
      "|AX_momhca1FFivsGrnwP|history|     0|{KPLUS, DTFD21200...|kplus|\n",
      "|AX_momhca1FFivsGrnwU|history|     0|{KPLUS, LDFD05747...|kplus|\n",
      "|AX_momhfa1FFivsGrn24|history|     0|{KPLUS, HNH063566...|kplus|\n",
      "|AX_momhia1FFivsGrn-W|history|     0|{KPLUS, HNH866786...|kplus|\n",
      "|AX_momhia1FFivsGrn-a|history|     0|{KPLUS, NBAAA1128...|kplus|\n",
      "|AX_momhfa1FFivsGrn3J|history|     0|{KPLUS, HNH960439...|kplus|\n",
      "|AX_momhia1FFivsGrn-k|history|     0|{KPLUS, HNJ035736...|kplus|\n",
      "|AX_momhaa1FFivsGrnol|history|     0|{KPLUS, NTFD93673...|kplus|\n",
      "|AX_momhaa1FFivsGrnoq|history|     0|{KPLUS, HNJ063267...|kplus|\n",
      "|AX_momg9a1FFivsGrnlF|history|     0|{KPLUS, HNH790383...|kplus|\n",
      "|AX_momhia1FFivsGrn-4|history|     0|{KPLUS, THFD12466...|kplus|\n",
      "|AX_momhia1FFivsGrn-9|history|     0|{KPLUS, HNH566080...|kplus|\n",
      "+--------------------+-------+------+--------------------+-----+\n",
      "only showing top 20 rows\n",
      "\n"
     ]
    }
   ],
   "source": [
    "ds.show()"
   ]
  },
  {
   "cell_type": "code",
   "execution_count": 6,
   "metadata": {},
   "outputs": [
    {
     "name": "stdout",
     "output_type": "stream",
     "text": [
      "root\n",
      " |-- _id: string (nullable = true)\n",
      " |-- _index: string (nullable = true)\n",
      " |-- _score: long (nullable = true)\n",
      " |-- _source: struct (nullable = true)\n",
      " |    |-- AppName: string (nullable = true)\n",
      " |    |-- Contract: string (nullable = true)\n",
      " |    |-- Mac: string (nullable = true)\n",
      " |    |-- TotalDuration: long (nullable = true)\n",
      " |-- _type: string (nullable = true)\n",
      "\n"
     ]
    }
   ],
   "source": [
    "ds.printSchema()"
   ]
  },
  {
   "cell_type": "code",
   "execution_count": 7,
   "metadata": {},
   "outputs": [
    {
     "name": "stdout",
     "output_type": "stream",
     "text": [
      "+---------+-------+-------------+\n",
      "| Contract|AppName|TotalDuration|\n",
      "+---------+-------+-------------+\n",
      "|HNH579912|  KPLUS|          254|\n",
      "|HUFD40665|  KPLUS|         1457|\n",
      "|HNH572635|  KPLUS|         2318|\n",
      "|HND141717|  KPLUS|         1452|\n",
      "|HNH743103|  KPLUS|          251|\n",
      "|HNH893773|  KPLUS|          924|\n",
      "|HND083642|  KPLUS|         1444|\n",
      "|DNFD74404|  KPLUS|          691|\n",
      "|DTFD21200|  KPLUS|         1436|\n",
      "|LDFD05747|  KPLUS|         1434|\n",
      "|HNH063566|  KPLUS|          687|\n",
      "|HNH866786|  KPLUS|          248|\n",
      "|NBAAA1128|  KPLUS|          247|\n",
      "|HNH960439|  KPLUS|          683|\n",
      "|HNJ035736|  KPLUS|          246|\n",
      "|NTFD93673|  KPLUS|         2288|\n",
      "|HNJ063267|  KPLUS|         2282|\n",
      "|HNH790383|  KPLUS|          906|\n",
      "|THFD12466|  KPLUS|          242|\n",
      "|HNH566080|  KPLUS|          242|\n",
      "+---------+-------+-------------+\n",
      "only showing top 20 rows\n",
      "\n"
     ]
    }
   ],
   "source": [
    "ds = ds.select('_source.Contract','_source.AppName','_source.TotalDuration')\n",
    "ds.show()"
   ]
  },
  {
   "cell_type": "code",
   "execution_count": 8,
   "metadata": {},
   "outputs": [
    {
     "name": "stdout",
     "output_type": "stream",
     "text": [
      "+-------+\n",
      "|AppName|\n",
      "+-------+\n",
      "|  KPLUS|\n",
      "|  RELAX|\n",
      "|  CHILD|\n",
      "|CHANNEL|\n",
      "|    VOD|\n",
      "|   FIMS|\n",
      "|  SPORT|\n",
      "+-------+\n",
      "\n"
     ]
    }
   ],
   "source": [
    "ds.select('AppName').distinct().show()"
   ]
  },
  {
   "cell_type": "code",
   "execution_count": 9,
   "metadata": {},
   "outputs": [],
   "source": [
    "ds = ds.withColumn(\"Type\",\n",
    "       when((col(\"AppName\") == 'CHANNEL') |  (col(\"AppName\") =='KPLUS'), \"TV\")\n",
    "      .when((col(\"AppName\") == 'VOD') | (col(\"AppName\") =='FIMS') , \"Movie\")\n",
    "      .when((col(\"AppName\") == 'CHILD'), \"Child\")\n",
    "      .when((col(\"AppName\") == 'RELAX'), \"Relax\")\n",
    "      .when((col(\"AppName\") == 'SPORT'), \"Sport\")\n",
    "      .otherwise(\"Error\"))"
   ]
  },
  {
   "cell_type": "code",
   "execution_count": 10,
   "metadata": {},
   "outputs": [
    {
     "name": "stdout",
     "output_type": "stream",
     "text": [
      "+---------+-------+-------------+----+\n",
      "| Contract|AppName|TotalDuration|Type|\n",
      "+---------+-------+-------------+----+\n",
      "|HNH579912|  KPLUS|          254|  TV|\n",
      "|HUFD40665|  KPLUS|         1457|  TV|\n",
      "|HNH572635|  KPLUS|         2318|  TV|\n",
      "|HND141717|  KPLUS|         1452|  TV|\n",
      "|HNH743103|  KPLUS|          251|  TV|\n",
      "|HNH893773|  KPLUS|          924|  TV|\n",
      "|HND083642|  KPLUS|         1444|  TV|\n",
      "|DNFD74404|  KPLUS|          691|  TV|\n",
      "|DTFD21200|  KPLUS|         1436|  TV|\n",
      "|LDFD05747|  KPLUS|         1434|  TV|\n",
      "|HNH063566|  KPLUS|          687|  TV|\n",
      "|HNH866786|  KPLUS|          248|  TV|\n",
      "|NBAAA1128|  KPLUS|          247|  TV|\n",
      "|HNH960439|  KPLUS|          683|  TV|\n",
      "|HNJ035736|  KPLUS|          246|  TV|\n",
      "|NTFD93673|  KPLUS|         2288|  TV|\n",
      "|HNJ063267|  KPLUS|         2282|  TV|\n",
      "|HNH790383|  KPLUS|          906|  TV|\n",
      "|THFD12466|  KPLUS|          242|  TV|\n",
      "|HNH566080|  KPLUS|          242|  TV|\n",
      "+---------+-------+-------------+----+\n",
      "only showing top 20 rows\n",
      "\n"
     ]
    }
   ],
   "source": [
    "ds.show()"
   ]
  },
  {
   "cell_type": "code",
   "execution_count": 11,
   "metadata": {},
   "outputs": [
    {
     "name": "stdout",
     "output_type": "stream",
     "text": [
      "+---------+-------------+----+\n",
      "| Contract|TotalDuration|Type|\n",
      "+---------+-------------+----+\n",
      "|HNH579912|          254|  TV|\n",
      "|HUFD40665|         1457|  TV|\n",
      "|HNH572635|         2318|  TV|\n",
      "|HND141717|         1452|  TV|\n",
      "|HNH743103|          251|  TV|\n",
      "|HNH893773|          924|  TV|\n",
      "|HND083642|         1444|  TV|\n",
      "|DNFD74404|          691|  TV|\n",
      "|DTFD21200|         1436|  TV|\n",
      "|LDFD05747|         1434|  TV|\n",
      "|HNH063566|          687|  TV|\n",
      "|HNH866786|          248|  TV|\n",
      "|NBAAA1128|          247|  TV|\n",
      "|HNH960439|          683|  TV|\n",
      "|HNJ035736|          246|  TV|\n",
      "|NTFD93673|         2288|  TV|\n",
      "|HNJ063267|         2282|  TV|\n",
      "|HNH790383|          906|  TV|\n",
      "|THFD12466|          242|  TV|\n",
      "|HNH566080|          242|  TV|\n",
      "+---------+-------------+----+\n",
      "only showing top 20 rows\n",
      "\n"
     ]
    }
   ],
   "source": [
    "ds = ds.drop(ds.AppName)\n",
    "ds.show()"
   ]
  },
  {
   "cell_type": "code",
   "execution_count": 12,
   "metadata": {},
   "outputs": [
    {
     "name": "stdout",
     "output_type": "stream",
     "text": [
      "+---------+-----+-----+-----+-----+-----+\n",
      "| Contract|Child|Movie|Relax|Sport|   TV|\n",
      "+---------+-----+-----+-----+-----+-----+\n",
      "|DLFD15794| NULL| NULL| NULL| NULL|   71|\n",
      "|DAH029562| NULL| NULL| NULL| NULL| 1226|\n",
      "|HNH655987| NULL| NULL| NULL| NULL| 5089|\n",
      "|SGH975310| NULL| NULL| NULL| NULL|72628|\n",
      "|VTFD32869| 2003| NULL| NULL| NULL|  338|\n",
      "|NTFD24068| NULL| 3836| NULL| NULL|  281|\n",
      "|HND372201| NULL| NULL| NULL| NULL|78260|\n",
      "|HNH905038| NULL| NULL| NULL| NULL|   49|\n",
      "|QNAAA2461| NULL| NULL| NULL|    0|63659|\n",
      "|HBFD00992| NULL| NULL| NULL| NULL|15133|\n",
      "|HNH526095| NULL| NULL| NULL| NULL|15908|\n",
      "|HNH912466| NULL| NULL| NULL| NULL|86412|\n",
      "|HNH913550| NULL| NULL| NULL| NULL|73211|\n",
      "|DNFD62761| NULL| 4613| NULL| NULL| 1589|\n",
      "|HNH927176| NULL| NULL| NULL| NULL|97179|\n",
      "|HNFD43638| NULL| NULL| NULL| NULL|18947|\n",
      "|HTFD11598| NULL| 2884| NULL| NULL|  707|\n",
      "|HNH767925| NULL|  655| NULL| NULL|  101|\n",
      "|DAFD26297| NULL|17274| NULL| NULL|77786|\n",
      "|HNH884948| NULL|  594| NULL| NULL|40236|\n",
      "+---------+-----+-----+-----+-----+-----+\n",
      "only showing top 20 rows\n",
      "\n"
     ]
    }
   ],
   "source": [
    "ds = ds.groupBy('Contract').pivot('Type').sum('TotalDuration')\n",
    "ds.show()"
   ]
  },
  {
   "cell_type": "code",
   "execution_count": 13,
   "metadata": {},
   "outputs": [
    {
     "name": "stdout",
     "output_type": "stream",
     "text": [
      "+---------+-----+-----+-----+-----+-----+\n",
      "| Contract|Child|Movie|Relax|Sport|   TV|\n",
      "+---------+-----+-----+-----+-----+-----+\n",
      "|DLFD15794|    0|    0|    0|    0|   71|\n",
      "|DAH029562|    0|    0|    0|    0| 1226|\n",
      "|HNH655987|    0|    0|    0|    0| 5089|\n",
      "|SGH975310|    0|    0|    0|    0|72628|\n",
      "|VTFD32869| 2003|    0|    0|    0|  338|\n",
      "|NTFD24068|    0| 3836|    0|    0|  281|\n",
      "|HND372201|    0|    0|    0|    0|78260|\n",
      "|HNH905038|    0|    0|    0|    0|   49|\n",
      "|QNAAA2461|    0|    0|    0|    0|63659|\n",
      "|HBFD00992|    0|    0|    0|    0|15133|\n",
      "|HNH526095|    0|    0|    0|    0|15908|\n",
      "|HNH912466|    0|    0|    0|    0|86412|\n",
      "|HNH913550|    0|    0|    0|    0|73211|\n",
      "|DNFD62761|    0| 4613|    0|    0| 1589|\n",
      "|HNH927176|    0|    0|    0|    0|97179|\n",
      "|HNFD43638|    0|    0|    0|    0|18947|\n",
      "|HTFD11598|    0| 2884|    0|    0|  707|\n",
      "|HNH767925|    0|  655|    0|    0|  101|\n",
      "|DAFD26297|    0|17274|    0|    0|77786|\n",
      "|HNH884948|    0|  594|    0|    0|40236|\n",
      "+---------+-----+-----+-----+-----+-----+\n",
      "only showing top 20 rows\n",
      "\n"
     ]
    }
   ],
   "source": [
    "ds = ds.fillna(0)\n",
    "ds.show()"
   ]
  },
  {
   "cell_type": "code",
   "execution_count": 14,
   "metadata": {},
   "outputs": [
    {
     "name": "stdout",
     "output_type": "stream",
     "text": [
      "+---------+-------------+-------------+-------------+-------------+----------+\n",
      "| Contract|ChildDuration|MovieDuration|RelaxDuration|SportDuration|TVDuration|\n",
      "+---------+-------------+-------------+-------------+-------------+----------+\n",
      "|DLFD15794|            0|            0|            0|            0|        71|\n",
      "|DAH029562|            0|            0|            0|            0|      1226|\n",
      "|HNH655987|            0|            0|            0|            0|      5089|\n",
      "|SGH975310|            0|            0|            0|            0|     72628|\n",
      "|VTFD32869|         2003|            0|            0|            0|       338|\n",
      "|NTFD24068|            0|         3836|            0|            0|       281|\n",
      "|HND372201|            0|            0|            0|            0|     78260|\n",
      "|HNH905038|            0|            0|            0|            0|        49|\n",
      "|QNAAA2461|            0|            0|            0|            0|     63659|\n",
      "|HBFD00992|            0|            0|            0|            0|     15133|\n",
      "|HNH526095|            0|            0|            0|            0|     15908|\n",
      "|HNH912466|            0|            0|            0|            0|     86412|\n",
      "|HNH913550|            0|            0|            0|            0|     73211|\n",
      "|DNFD62761|            0|         4613|            0|            0|      1589|\n",
      "|HNH927176|            0|            0|            0|            0|     97179|\n",
      "|HNFD43638|            0|            0|            0|            0|     18947|\n",
      "|HTFD11598|            0|         2884|            0|            0|       707|\n",
      "|HNH767925|            0|          655|            0|            0|       101|\n",
      "|DAFD26297|            0|        17274|            0|            0|     77786|\n",
      "|HNH884948|            0|          594|            0|            0|     40236|\n",
      "+---------+-------------+-------------+-------------+-------------+----------+\n",
      "only showing top 20 rows\n",
      "\n"
     ]
    }
   ],
   "source": [
    "ds = ds.withColumnRenamed('Child','ChildDuration')\n",
    "ds = ds.withColumnRenamed('Movie','MovieDuration')\n",
    "ds = ds.withColumnRenamed('Relax','RelaxDuration')\n",
    "ds = ds.withColumnRenamed('Sport','SportDuration')\n",
    "ds = ds.withColumnRenamed('TV','TVDuration')\n",
    "ds.show()"
   ]
  },
  {
   "cell_type": "code",
   "execution_count": 15,
   "metadata": {},
   "outputs": [
    {
     "name": "stdout",
     "output_type": "stream",
     "text": [
      "root\n",
      " |-- Contract: string (nullable = true)\n",
      " |-- ChildDuration: long (nullable = true)\n",
      " |-- MovieDuration: long (nullable = true)\n",
      " |-- RelaxDuration: long (nullable = true)\n",
      " |-- SportDuration: long (nullable = true)\n",
      " |-- TVDuration: long (nullable = true)\n",
      "\n"
     ]
    }
   ],
   "source": [
    "ds.printSchema()"
   ]
  },
  {
   "cell_type": "code",
   "execution_count": 16,
   "metadata": {},
   "outputs": [],
   "source": [
    "ds.write.mode('overwrite').csv(\"E:\\\\output_logcontent\\\\20220401.csv\")"
   ]
  },
  {
   "cell_type": "code",
   "execution_count": null,
   "metadata": {},
   "outputs": [],
   "source": []
  }
 ],
 "metadata": {
  "kernelspec": {
   "display_name": "base",
   "language": "python",
   "name": "python3"
  },
  "language_info": {
   "codemirror_mode": {
    "name": "ipython",
    "version": 3
   },
   "file_extension": ".py",
   "mimetype": "text/x-python",
   "name": "python",
   "nbconvert_exporter": "python",
   "pygments_lexer": "ipython3",
   "version": "3.11.5"
  }
 },
 "nbformat": 4,
 "nbformat_minor": 2
}
