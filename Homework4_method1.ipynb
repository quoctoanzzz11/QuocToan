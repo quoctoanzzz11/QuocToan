{
 "cells": [
  {
   "cell_type": "code",
   "execution_count": 1,
   "metadata": {},
   "outputs": [],
   "source": [
    "#Method 1 (xử lý dữ liệu từng ngày 1 --> tổng hợp)"
   ]
  },
  {
   "cell_type": "code",
   "execution_count": 2,
   "metadata": {},
   "outputs": [],
   "source": [
    "import findspark\n",
    "findspark.init()\n",
    "from pyspark.sql import SparkSession\n",
    "from pyspark.sql.functions import col\n",
    "from pyspark.sql.functions import when\n",
    "import pyspark.sql.functions as sf\n",
    "import os \n",
    "import datetime "
   ]
  },
  {
   "cell_type": "code",
   "execution_count": 3,
   "metadata": {},
   "outputs": [],
   "source": [
    "spark = SparkSession.builder.config(\"spark.driver.memory\",\"2g\").getOrCreate()"
   ]
  },
  {
   "cell_type": "code",
   "execution_count": 4,
   "metadata": {},
   "outputs": [],
   "source": [
    "def convert_to_datevalue(value):\n",
    "\tdate_value = datetime.datetime.strptime(value,\"%Y%m%d\").date()\n",
    "\treturn date_value\n",
    "\n",
    "def date_range(start_date,end_date):\n",
    "\tdate_list = []\n",
    "\tcurrent_date = start_date\n",
    "\twhile current_date <= end_date:\n",
    "\t\tdate_list.append(current_date.strftime(\"%Y%m%d\"))\n",
    "\t\tcurrent_date += datetime.timedelta(days=1)\n",
    "\treturn date_list\n",
    "\n",
    "def generate_date_range(from_date,to_date):\n",
    "\tfrom_date = convert_to_datevalue(from_date)\n",
    "\tto_date = convert_to_datevalue(to_date)\n",
    "\tdate_list = date_range(from_date,to_date)\n",
    "\treturn date_list"
   ]
  },
  {
   "cell_type": "code",
   "execution_count": 10,
   "metadata": {},
   "outputs": [],
   "source": [
    "def etl_1_day(path,file_name):\n",
    "    dinh_dang = '.json'\n",
    "    df = spark.read.json(path+file_name+dinh_dang)\n",
    "    df = df.select('_source.Contract','_source.AppName','_source.TotalDuration')\n",
    "    df = df.withColumn(\"Type\",\n",
    "       when((col(\"AppName\") == 'CHANNEL') |  (col(\"AppName\") =='KPLUS'), \"TV\")\n",
    "      .when((col(\"AppName\") == 'VOD') | (col(\"AppName\") =='FIMS') , \"Movie\")\n",
    "      .when((col(\"AppName\") == 'CHILD'), \"Child\")\n",
    "      .when((col(\"AppName\") == 'RELAX'), \"Relax\")\n",
    "      .when((col(\"AppName\") == 'SPORT'), \"Sport\")\n",
    "      .otherwise(\"Error\"))\n",
    "    df = df.drop(df.AppName)\n",
    "    df = df.groupBy('Contract').pivot('Type').sum('TotalDuration')\n",
    "    df = df.fillna(0)\n",
    "    df = df.withColumnRenamed('Child','ChildDuration')\n",
    "    ds = df.withColumnRenamed('Movie','MovieDuration')\n",
    "    df = df.withColumnRenamed('Relax','RelaxDuration')\n",
    "    df = df.withColumnRenamed('Sport','SportDuration')\n",
    "    df = df.withColumnRenamed('TV','TVDuration')\n",
    "    return df"
   ]
  },
  {
   "cell_type": "code",
   "execution_count": 11,
   "metadata": {},
   "outputs": [],
   "source": [
    "def main_task(from_date,to_date):\n",
    "    path = \"E:\\\\log_content\\\\\"\n",
    "    list_file = os.listdir(path)\n",
    "    list_file_1 = generate_date_range(from_date,to_date)   \n",
    "\n",
    "    file_name = list_file_1[0]\n",
    "    result1 = etl_1_day(path ,file_name)\n",
    "    for i in list_file_1[1:]:\n",
    "        file_name2 = i\n",
    "        result2 = etl_1_day(path,file_name2)\n",
    "        result1 = result1.union(result2)\n",
    "        result1 = result1.cache()\n",
    "    \n",
    "    result1.write.csv('E:\\\\Output_logcontent_method1\\\\clean_data',header=True)\n",
    "\n"
   ]
  },
  {
   "cell_type": "code",
   "execution_count": 12,
   "metadata": {},
   "outputs": [],
   "source": [
    "main_task('20220402','20220405')"
   ]
  },
  {
   "cell_type": "code",
   "execution_count": 15,
   "metadata": {},
   "outputs": [],
   "source": [
    "final = spark.read.csv(\"E:\\\\Output_logcontent_method1\\\\clean_data\",header=True)"
   ]
  },
  {
   "cell_type": "code",
   "execution_count": 16,
   "metadata": {},
   "outputs": [
    {
     "name": "stdout",
     "output_type": "stream",
     "text": [
      "+---------+-------------+-----+-------------+-------------+----------+\n",
      "| Contract|ChildDuration|Movie|RelaxDuration|SportDuration|TVDuration|\n",
      "+---------+-------------+-----+-------------+-------------+----------+\n",
      "|HNH011482|            0|    0|            0|            0|     54575|\n",
      "|HND526493|            0|    0|            0|            0|     15009|\n",
      "|SGD500758|            0|    0|            0|            0|     21170|\n",
      "|VLD016771|            0|17023|            0|            0|     16858|\n",
      "|BGFD41939|            0|    0|            0|            0|     23673|\n",
      "|HNH229216|            0|    0|            0|            0|     14613|\n",
      "|HNH772904|            0|    0|            0|            0|     47988|\n",
      "|HNH579215|            0|    0|            0|            0|     44022|\n",
      "|TIFD11203|            0|    0|            0|            0|     83908|\n",
      "|SGH846419|            0|    0|            0|            0|     57752|\n",
      "|BDD067011|            0|    0|            0|            0|     14590|\n",
      "|SGH931832|            0|    0|            0|            0|     19942|\n",
      "|TQFD06840|            0|    0|            0|            0|     22472|\n",
      "|AGD007894|            0|    0|            0|            0|     57968|\n",
      "|KGFD24451|            0|    0|            0|            0|     14700|\n",
      "|TGFD08288|            0|    0|            0|            0|     14986|\n",
      "|HNH029456|            0|    0|            0|            0|     51928|\n",
      "|HND093948|            0|    0|            0|            0|     23570|\n",
      "|TBFD01547|            0|    0|            0|            0|     14549|\n",
      "|TQFD12519|            0|    0|            0|            0|     50773|\n",
      "+---------+-------------+-----+-------------+-------------+----------+\n",
      "only showing top 20 rows\n",
      "\n"
     ]
    }
   ],
   "source": [
    "final.show()"
   ]
  },
  {
   "cell_type": "code",
   "execution_count": null,
   "metadata": {},
   "outputs": [],
   "source": []
  }
 ],
 "metadata": {
  "kernelspec": {
   "display_name": "base",
   "language": "python",
   "name": "python3"
  },
  "language_info": {
   "codemirror_mode": {
    "name": "ipython",
    "version": 3
   },
   "file_extension": ".py",
   "mimetype": "text/x-python",
   "name": "python",
   "nbconvert_exporter": "python",
   "pygments_lexer": "ipython3",
   "version": "3.11.5"
  }
 },
 "nbformat": 4,
 "nbformat_minor": 2
}
