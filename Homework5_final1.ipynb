{
 "cells": [
  {
   "cell_type": "code",
   "execution_count": 1,
   "metadata": {},
   "outputs": [],
   "source": [
    "import findspark\n",
    "findspark.init()\n",
    "from pyspark.sql import SparkSession\n",
    "from pyspark.sql.functions import col\n",
    "from pyspark.sql.functions import when\n",
    "import pyspark.sql.functions as sf\n",
    "import os \n",
    "import datetime \n",
    "from pyspark.sql.functions import col, greatest , when, concat_ws, count, sum, lit, round"
   ]
  },
  {
   "cell_type": "code",
   "execution_count": 2,
   "metadata": {},
   "outputs": [],
   "source": [
    "spark = SparkSession.builder.config(\"spark.driver.memory\",\"4g\").getOrCreate()"
   ]
  },
  {
   "cell_type": "markdown",
   "metadata": {},
   "source": [
    " Tạo List Ngày"
   ]
  },
  {
   "cell_type": "code",
   "execution_count": 3,
   "metadata": {},
   "outputs": [],
   "source": [
    "def convert_to_datevalue(value):\n",
    "\tdate_value = datetime.datetime.strptime(value,\"%Y%m%d\").date()\n",
    "\treturn date_value\n",
    "\n",
    "def date_range(start_date,end_date):\n",
    "\tdate_list = []\n",
    "\tcurrent_date = start_date\n",
    "\twhile current_date <= end_date:\n",
    "\t\tdate_list.append(current_date.strftime(\"%Y%m%d\"))\n",
    "\t\tcurrent_date += datetime.timedelta(days=1)\n",
    "\treturn date_list\n",
    "\n",
    "def generate_date_range(from_date,to_date):                         # Tạo list theo khoảng thời gian\n",
    "\tfrom_date = convert_to_datevalue(from_date)\n",
    "\tto_date = convert_to_datevalue(to_date)\n",
    "\tdate_list = date_range(from_date,to_date)\n",
    "\treturn date_list"
   ]
  },
  {
   "cell_type": "markdown",
   "metadata": {},
   "source": [
    "Tính Số Ngày Trong Một Khoảng Thời Gian"
   ]
  },
  {
   "cell_type": "code",
   "execution_count": 4,
   "metadata": {},
   "outputs": [],
   "source": [
    "def calculate_days_between_dates(from_date,to_date):\n",
    "    date_format = \"%Y%m%d\"\n",
    "    fromdate = datetime.datetime.strptime(from_date, date_format)\n",
    "    todate = datetime.datetime.strptime(to_date, date_format)\n",
    "\n",
    "    delta = todate - fromdate \n",
    "    \n",
    "    return delta.days + 1"
   ]
  },
  {
   "cell_type": "markdown",
   "metadata": {},
   "source": [
    "ETL "
   ]
  },
  {
   "cell_type": "code",
   "execution_count": 5,
   "metadata": {},
   "outputs": [],
   "source": [
    "def etl(df):\n",
    "    df = df.select('_source.Contract','_source.AppName','_source.TotalDuration')\n",
    "    df = df.withColumn(\"Type\",\n",
    "       when((col(\"AppName\") == 'CHANNEL') |  (col(\"AppName\") =='KPLUS'), \"TV\")\n",
    "      .when((col(\"AppName\") == 'VOD') | (col(\"AppName\") =='FIMS') , \"Movie\")\n",
    "      .when((col(\"AppName\") == 'CHILD'), \"Child\")\n",
    "      .when((col(\"AppName\") == 'RELAX'), \"Relax\")\n",
    "      .when((col(\"AppName\") == 'SPORT'), \"Sport\")\n",
    "      .otherwise(\"Error\"))\n",
    "\n",
    "    df = df.drop(df.AppName)\n",
    "\n",
    "    df = df.groupBy('Contract').pivot('Type').sum('TotalDuration')\n",
    "    df = df.fillna(0)\n",
    "    \n",
    "    df = df.withColumnRenamed('Child','ChildDuration')\n",
    "    df = df.withColumnRenamed('Movie','MovieDuration')\n",
    "    df = df.withColumnRenamed('Relax','RelaxDuration')\n",
    "    df = df.withColumnRenamed('Sport','SportDuration')\n",
    "    df = df.withColumnRenamed('TV','TVDuration')\n",
    "    return df"
   ]
  },
  {
   "cell_type": "markdown",
   "metadata": {},
   "source": [
    "Chương Trình Xem Nhiều Nhất"
   ]
  },
  {
   "cell_type": "code",
   "execution_count": 6,
   "metadata": {},
   "outputs": [],
   "source": [
    "def most_watch(df):\n",
    "    max_value = greatest(col(\"ChildDuration\"), col(\"MovieDuration\"), col(\"RelaxDuration\"), col(\"SportDuration\"), col(\"TVDuration\"))\n",
    "    df = df.withColumn(\"Most_Watch\", when(max_value == col(\"ChildDuration\"), \"Child\")\n",
    "                                   .when(max_value == col(\"MovieDuration\"), \"Movie\")\n",
    "                                   .when(max_value == col(\"RelaxDuration\"), \"Relax\")\n",
    "                                   .when(max_value == col(\"SportDuration\"), \"Sport\")\n",
    "                                   .when(max_value == col(\"TVDuration\"), \"TV\"))\n",
    "    return df"
   ]
  },
  {
   "cell_type": "markdown",
   "metadata": {},
   "source": [
    "Các Chương Trình Đã Xem"
   ]
  },
  {
   "cell_type": "code",
   "execution_count": 7,
   "metadata": {},
   "outputs": [],
   "source": [
    "def customer_state(df):\n",
    "    customer_state = concat_ws(\"-\", \n",
    "    when(col(\"ChildDuration\") > 0, \"Child\"),\n",
    "    when(col(\"MovieDuration\") > 0, \"Movie\"),\n",
    "    when(col(\"RelaxDuration\") > 0, \"Relax\"),\n",
    "    when(col(\"SportDuration\") > 0, \"Sport\"),\n",
    "    when(col(\"TVDuration\") > 0, \"TV\")\n",
    "    )\n",
    "\n",
    "    df = df.withColumn(\"Customer_Taste\", customer_state)\n",
    "\n",
    "    df = df.replace(['Child-Movie-Relax-Sport-TV'],['all'])\n",
    "    \n",
    "    return df "
   ]
  },
  {
   "cell_type": "markdown",
   "metadata": {},
   "source": [
    "Tính Tỷ Lệ Số Ngày Sử Dụng Trong Một Khoảng Thời Gian "
   ]
  },
  {
   "cell_type": "code",
   "execution_count": 10,
   "metadata": {},
   "outputs": [],
   "source": [
    "def activeness(from_date,to_date):\n",
    "    path = \"E:\\\\log_content\\\\\"\n",
    "    dinh_dang = '.json'\n",
    "    list_file_1 = generate_date_range(from_date,to_date)\n",
    "\n",
    "    file_name = list_file_1[0]\n",
    "    result1 = spark.read.json(path+file_name+dinh_dang)\n",
    "\n",
    "    result1 = etl(result1)\n",
    "    result1 = result1.withColumn('date', lit(from_date))  #Thêm date \n",
    "\n",
    "    \n",
    "    for i in list_file_1[1:]:\n",
    "        file_name2 = i\n",
    "        result2 = spark.read.json(path+file_name2+dinh_dang)\n",
    "        result2 = etl(result2)\n",
    "\n",
    "        result2 = result2.withColumn('date', lit(i))  #Thêm date ở mỗi file\n",
    " \n",
    "        result1 = result1.union(result2)\n",
    "        result1 = result1.cache()\n",
    "\n",
    "    #Output sau vòng for: Contract, ChildDuration, MovieDuration, RelaxDuration, SportDuration, TVDuration, date\n",
    "\n",
    "    #Tính total thời gian xem một người trong 1 ngày\n",
    "    result1 = result1.withColumn(\"total\", col(\"ChildDuration\") + col(\"MovieDuration\") + col(\"RelaxDuration\") + col(\"SportDuration\") +  col(\"TVDuration\")) \n",
    "    # nếu ngày nào có thời gian sử dụng (total) > 0 --> activeness đếm\n",
    "    result1 = result1.groupBy(\"Contract\").agg(count(when(col(\"total\") > 0, 1)).alias(\"Activeness\"))\n",
    "\n",
    "    # Tỷ Lệ Phần Trăm (Số Ngày Sử Dụng)/(Số Ngày Trong Một Khoảng Thời Gian)\n",
    "    z = calculate_days_between_dates(from_date,to_date)\n",
    "\n",
    "    result1 = result1.withColumn(\"Activeness\", round(col(\"Activeness\") / z, 2))\n",
    "\n",
    "    return result1 # Trả về 2 cột Contract và Activeness"
   ]
  },
  {
   "cell_type": "markdown",
   "metadata": {},
   "source": [
    "Tính Ra Chương Trình Xem Nhiều Nhất Và Các Chương Trình Đã Xem Trong Một Khoảng Thời Gian"
   ]
  },
  {
   "cell_type": "code",
   "execution_count": 11,
   "metadata": {},
   "outputs": [],
   "source": [
    "def mw_cs(from_date,to_date):\n",
    "    path = \"E:\\\\log_content\\\\\"\n",
    "    dinh_dang = '.json'\n",
    "    \n",
    "    file_name1 = spark.read.json(path+from_date+dinh_dang)\n",
    "    \n",
    "    list_file_1 = generate_date_range(from_date,to_date)   \n",
    "\n",
    "    for i in list_file_1[1:]:\n",
    "        file_name2 = spark.read.json(path+i+dinh_dang)\n",
    "        \n",
    "        file_name1 = file_name1.union(file_name2)\n",
    "        file_name1 = file_name1.cache()\n",
    "    \n",
    "    final = etl(file_name1)\n",
    "    final = most_watch(final)\n",
    "    final = customer_state(final)\n",
    "\n",
    "    return final #Trả về Các cột gồm Contract, ChildDuration, MovieDuration, RelaxDuration, SportDuration, TVDuration, Most_Watch, Customer_Taste"
   ]
  },
  {
   "cell_type": "markdown",
   "metadata": {},
   "source": [
    "Main_task"
   ]
  },
  {
   "cell_type": "code",
   "execution_count": 12,
   "metadata": {},
   "outputs": [],
   "source": [
    "def main_task(from_date,to_date):\n",
    "     temp1 = activeness(from_date,to_date)\n",
    "     temp2 = mw_cs(from_date,to_date)\n",
    "\n",
    "     #Có cùng contract --> Outer Join\n",
    "     temp3 = temp2.join(temp1, on=\"Contract\", how=\"outer\")\n",
    "\n",
    "     final = temp3.select('Contract','Most_Watch','Customer_Taste','Activeness')\n",
    "     \n",
    "     return final"
   ]
  },
  {
   "cell_type": "code",
   "execution_count": 13,
   "metadata": {},
   "outputs": [
    {
     "name": "stdout",
     "output_type": "stream",
     "text": [
      "+--------------+----------+--------------+----------+\n",
      "|      Contract|Most_Watch|Customer_Taste|Activeness|\n",
      "+--------------+----------+--------------+----------+\n",
      "|113.182.209.48|     Relax|      Relax-TV|      0.25|\n",
      "|     AGAAA0338|        TV|            TV|       1.0|\n",
      "|     AGAAA0342|        TV|            TV|       0.5|\n",
      "|     AGAAA0346|        TV|            TV|       1.0|\n",
      "|     AGAAA0353|        TV|      Movie-TV|       1.0|\n",
      "|     AGAAA0372|        TV|            TV|       0.5|\n",
      "|     AGAAA0391|        TV|            TV|       0.5|\n",
      "|     AGAAA0504|        TV|            TV|       1.0|\n",
      "|     AGAAA0544|        TV|            TV|       1.0|\n",
      "|     AGAAA0550|        TV|            TV|      0.75|\n",
      "|     AGAAA0555|        TV|            TV|       1.0|\n",
      "|     AGAAA0576|        TV|      Movie-TV|       1.0|\n",
      "|     AGAAA0613|        TV|            TV|       1.0|\n",
      "|     AGAAA0638|        TV|            TV|       1.0|\n",
      "|     AGAAA0663|        TV|            TV|       1.0|\n",
      "|     AGAAA0693|        TV|      Child-TV|       1.0|\n",
      "|     AGAAA0718|        TV|            TV|       1.0|\n",
      "|     AGAAA0723|        TV|            TV|      0.75|\n",
      "|     AGAAA0732|        TV|            TV|      0.75|\n",
      "|     AGAAA0750|        TV|            TV|       1.0|\n",
      "+--------------+----------+--------------+----------+\n",
      "only showing top 20 rows\n",
      "\n"
     ]
    }
   ],
   "source": [
    "temp = main_task('20220401','20220404')\n",
    "temp.show()"
   ]
  },
  {
   "cell_type": "code",
   "execution_count": null,
   "metadata": {},
   "outputs": [],
   "source": []
  }
 ],
 "metadata": {
  "kernelspec": {
   "display_name": "base",
   "language": "python",
   "name": "python3"
  },
  "language_info": {
   "codemirror_mode": {
    "name": "ipython",
    "version": 3
   },
   "file_extension": ".py",
   "mimetype": "text/x-python",
   "name": "python",
   "nbconvert_exporter": "python",
   "pygments_lexer": "ipython3",
   "version": "3.11.5"
  }
 },
 "nbformat": 4,
 "nbformat_minor": 2
}
