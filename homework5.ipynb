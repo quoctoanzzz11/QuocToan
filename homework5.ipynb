{
 "cells": [
  {
   "cell_type": "code",
   "execution_count": 1,
   "metadata": {},
   "outputs": [],
   "source": [
    "import findspark\n",
    "findspark.init()\n",
    "from pyspark.sql import SparkSession\n",
    "from pyspark.sql.functions import col\n",
    "from pyspark.sql.functions import when\n",
    "import pyspark.sql.functions as sf\n",
    "import os \n",
    "import datetime \n",
    "from pyspark.sql.functions import col, greatest , when, concat_ws, count, sum, lit, round "
   ]
  },
  {
   "cell_type": "code",
   "execution_count": 2,
   "metadata": {},
   "outputs": [],
   "source": [
    "spark = SparkSession.builder.config(\"spark.driver.memory\",\"2g\").config(\"spark.jars.packages\",\"com.mysql:mysql-connector-j:8.0.33\").getOrCreate()"
   ]
  },
  {
   "cell_type": "markdown",
   "metadata": {},
   "source": [
    "Tạo list theo khoảng thời gian"
   ]
  },
  {
   "cell_type": "code",
   "execution_count": 3,
   "metadata": {},
   "outputs": [],
   "source": [
    "def convert_to_datevalue(value):\n",
    "\tdate_value = datetime.datetime.strptime(value,\"%Y%m%d\").date()\n",
    "\treturn date_value\n",
    "\n",
    "def date_range(start_date,end_date):\n",
    "\tdate_list = []\n",
    "\tcurrent_date = start_date\n",
    "\twhile current_date <= end_date:\n",
    "\t\tdate_list.append(current_date.strftime(\"%Y%m%d\"))\n",
    "\t\tcurrent_date += datetime.timedelta(days=1)\n",
    "\treturn date_list\n",
    "\n",
    "def generate_date_range(from_date,to_date):                         # Tạo list theo khoảng thời gian\n",
    "\tfrom_date = convert_to_datevalue(from_date)\n",
    "\tto_date = convert_to_datevalue(to_date)\n",
    "\tdate_list = date_range(from_date,to_date)\n",
    "\treturn date_list"
   ]
  },
  {
   "cell_type": "markdown",
   "metadata": {},
   "source": [
    "Số ngày giữa một khoảng thời gian"
   ]
  },
  {
   "cell_type": "code",
   "execution_count": 4,
   "metadata": {},
   "outputs": [],
   "source": [
    "def calculate_days_between_dates(from_date,to_date):\n",
    "    date_format = \"%Y%m%d\"\n",
    "    fromdate = datetime.datetime.strptime(from_date, date_format)\n",
    "    todate = datetime.datetime.strptime(to_date, date_format)\n",
    "\n",
    "    delta = todate - fromdate \n",
    "    \n",
    "    return delta.days + 1"
   ]
  },
  {
   "cell_type": "markdown",
   "metadata": {},
   "source": [
    "ETL (Group,pivot,sum)"
   ]
  },
  {
   "cell_type": "code",
   "execution_count": 5,
   "metadata": {},
   "outputs": [],
   "source": [
    "def etl(df):\n",
    "    df = df.select('_source.Contract','_source.AppName','_source.TotalDuration')\n",
    "    df = df.withColumn(\"Type\",\n",
    "       when((col(\"AppName\") == 'CHANNEL') |  (col(\"AppName\") =='KPLUS'), \"TV\")\n",
    "      .when((col(\"AppName\") == 'VOD') | (col(\"AppName\") =='FIMS') , \"Movie\")\n",
    "      .when((col(\"AppName\") == 'CHILD'), \"Child\")\n",
    "      .when((col(\"AppName\") == 'RELAX'), \"Relax\")\n",
    "      .when((col(\"AppName\") == 'SPORT'), \"Sport\")\n",
    "      .otherwise(\"Error\"))\n",
    "\n",
    "    df = df.drop(df.AppName)\n",
    "\n",
    "    df = df.groupBy('Contract').pivot('Type').sum('TotalDuration')\n",
    "    df = df.fillna(0)\n",
    "    \n",
    "    df = df.withColumnRenamed('Child','ChildDuration')\n",
    "    df = df.withColumnRenamed('Movie','MovieDuration')\n",
    "    df = df.withColumnRenamed('Relax','RelaxDuration')\n",
    "    df = df.withColumnRenamed('Sport','SportDuration')\n",
    "    df = df.withColumnRenamed('TV','TVDuration')\n",
    "    return df"
   ]
  },
  {
   "cell_type": "markdown",
   "metadata": {},
   "source": [
    "Chương trình xem nhiều nhất"
   ]
  },
  {
   "cell_type": "code",
   "execution_count": 6,
   "metadata": {},
   "outputs": [],
   "source": [
    "def most_watch(df):\n",
    "    max_value = greatest(col(\"ChildDuration\"), col(\"MovieDuration\"), col(\"RelaxDuration\"), col(\"SportDuration\"), col(\"TVDuration\"))\n",
    "    df = df.withColumn(\"Most_Watch\", when(max_value == col(\"ChildDuration\"), \"Child\")\n",
    "                                   .when(max_value == col(\"MovieDuration\"), \"Movie\")\n",
    "                                   .when(max_value == col(\"RelaxDuration\"), \"Relax\")\n",
    "                                   .when(max_value == col(\"SportDuration\"), \"Sport\")\n",
    "                                   .when(max_value == col(\"TVDuration\"), \"TV\"))\n",
    "    return df"
   ]
  },
  {
   "cell_type": "markdown",
   "metadata": {},
   "source": [
    "Những chương trình đã xem"
   ]
  },
  {
   "cell_type": "code",
   "execution_count": 7,
   "metadata": {},
   "outputs": [],
   "source": [
    "def customer_state(df):\n",
    "    customer_state = concat_ws(\"-\", \n",
    "    when(col(\"ChildDuration\") > 0, \"Child\"),\n",
    "    when(col(\"MovieDuration\") > 0, \"Movie\"),\n",
    "    when(col(\"RelaxDuration\") > 0, \"Relax\"),\n",
    "    when(col(\"SportDuration\") > 0, \"Sport\"),\n",
    "    when(col(\"TVDuration\") > 0, \"TV\")\n",
    "    )\n",
    "\n",
    "    df = df.withColumn(\"Customer_Taste\", customer_state)\n",
    "\n",
    "    df = df.replace(['Child-Movie-Relax-Sport-TV'],['all'])\n",
    "    \n",
    "    return df"
   ]
  },
  {
   "cell_type": "markdown",
   "metadata": {},
   "source": [
    "Tỷ Lệ Phần Trăm Số Ngày Hoạt Động Trên Một Khoảng Thời Gian"
   ]
  },
  {
   "cell_type": "code",
   "execution_count": 9,
   "metadata": {},
   "outputs": [],
   "source": [
    "def activeness(from_date,to_date):\n",
    "    path = \"E:\\\\log_content\\\\\"\n",
    "    dinh_dang = '.json'\n",
    "    list_file_1 = generate_date_range(from_date,to_date)\n",
    "\n",
    "    file_name = list_file_1[0]\n",
    "    result1 = spark.read.json(path+file_name+dinh_dang)\n",
    "\n",
    "    result1 = etl(result1)\n",
    "    result1 = result1.withColumn('date', lit(from_date))  #Thêm date \n",
    "\n",
    "    for i in list_file_1[1:]:\n",
    "        file_name2 = i\n",
    "        result2 = spark.read.json(path+file_name2+dinh_dang)\n",
    "        result2 = etl(result2)\n",
    "\n",
    "        result2 = result2.withColumn('date', lit(i))  #Thêm date ở mỗi file\n",
    " \n",
    "        result1 = result1.union(result2)\n",
    "        result1 = result1.cache()\n",
    "\n",
    "    #Output sau vòng for: Contract, ChildDuration, MovieDuration, RelaxDuration, SportDuration, TVDuration, date\n",
    "\n",
    "    #Tính total thời gian xem một người trong 1 ngày\n",
    "    result1 = result1.withColumn(\"total\", col(\"ChildDuration\") + col(\"MovieDuration\") + col(\"RelaxDuration\") + col(\"SportDuration\") +  col(\"TVDuration\")) \n",
    "    # nếu ngày nào có thời gian sử dụng (total) > 0 --> activeness đếm\n",
    "    result1 = result1.groupBy(\"Contract\").agg(count(when(col(\"total\") > 0, 1)).alias(\"Activeness\"))\n",
    "\n",
    "    # Tỷ Lệ Phần Trăm (Số Ngày Sử Dụng)/(Số Ngày Trong Một Khoảng Thời Gian)\n",
    "    z = calculate_days_between_dates(from_date,to_date)\n",
    "\n",
    "    result1 = result1.withColumn(\"Activeness\", round(col(\"Activeness\") / z, 2))\n",
    "\n",
    "    return result1 # Trả về 2 cột Contract và Activeness"
   ]
  },
  {
   "cell_type": "markdown",
   "metadata": {},
   "source": [
    "Chương Trình Xem Nhiều Nhất - Những Chương Trình Đã Xem "
   ]
  },
  {
   "cell_type": "code",
   "execution_count": 10,
   "metadata": {},
   "outputs": [],
   "source": [
    "def mw_cs(from_date,to_date):\n",
    "    path = \"E:\\\\log_content\\\\\"\n",
    "    dinh_dang = '.json'\n",
    "    \n",
    "    file_name1 = spark.read.json(path+from_date+dinh_dang)\n",
    "    \n",
    "    list_file_1 = generate_date_range(from_date,to_date)   \n",
    "\n",
    "    for i in list_file_1[1:]:\n",
    "        file_name2 = spark.read.json(path+i+dinh_dang)\n",
    "        \n",
    "        file_name1 = file_name1.union(file_name2)\n",
    "        file_name1 = file_name1.cache()\n",
    "    \n",
    "    final = etl(file_name1)\n",
    "    final = most_watch(final)\n",
    "    final = customer_state(final)\n",
    "\n",
    "    return final #Trả về Các cột gồm Contract, ChildDuration, MovieDuration, RelaxDuration, SportDuration, TVDuration, Most_Watch, Customer_Taste"
   ]
  },
  {
   "cell_type": "markdown",
   "metadata": {},
   "source": [
    "Main_task"
   ]
  },
  {
   "cell_type": "code",
   "execution_count": 11,
   "metadata": {},
   "outputs": [],
   "source": [
    "def main_task(from_date,to_date):\n",
    "     temp1 = activeness(from_date,to_date)\n",
    "     temp2 = mw_cs(from_date,to_date)\n",
    "\n",
    "     #Có cùng contract --> Outer Join\n",
    "     temp3 = temp2.join(temp1, on=\"Contract\", how=\"outer\")\n",
    "\n",
    "     final = temp3.select('Contract','Most_Watch','Customer_Taste','Activeness')\n",
    "     \n",
    "     return final"
   ]
  },
  {
   "cell_type": "code",
   "execution_count": 12,
   "metadata": {},
   "outputs": [
    {
     "name": "stdout",
     "output_type": "stream",
     "text": [
      "+--------------+----------+--------------+----------+\n",
      "|      Contract|Most_Watch|Customer_Taste|Activeness|\n",
      "+--------------+----------+--------------+----------+\n",
      "|113.182.209.48|     Relax|      Relax-TV|       0.5|\n",
      "|     AGAAA0338|        TV|            TV|       1.0|\n",
      "|     AGAAA0342|        TV|            TV|       1.0|\n",
      "|     AGAAA0346|        TV|            TV|       1.0|\n",
      "|     AGAAA0353|     Movie|      Movie-TV|       1.0|\n",
      "|     AGAAA0372|        TV|            TV|       1.0|\n",
      "|     AGAAA0391|        TV|            TV|       0.5|\n",
      "|     AGAAA0504|        TV|            TV|       1.0|\n",
      "|     AGAAA0544|        TV|            TV|       1.0|\n",
      "|     AGAAA0550|        TV|            TV|       0.5|\n",
      "|     AGAAA0555|        TV|            TV|       1.0|\n",
      "|     AGAAA0576|        TV|      Movie-TV|       1.0|\n",
      "|     AGAAA0613|        TV|            TV|       1.0|\n",
      "|     AGAAA0638|        TV|            TV|       1.0|\n",
      "|     AGAAA0663|        TV|            TV|       1.0|\n",
      "|     AGAAA0693|        TV|      Child-TV|       1.0|\n",
      "|     AGAAA0718|        TV|            TV|       1.0|\n",
      "|     AGAAA0723|        TV|            TV|       1.0|\n",
      "|     AGAAA0732|        TV|            TV|       1.0|\n",
      "|     AGAAA0750|        TV|            TV|       1.0|\n",
      "+--------------+----------+--------------+----------+\n",
      "only showing top 20 rows\n",
      "\n"
     ]
    }
   ],
   "source": [
    "temp = main_task('20220401','20220402')\n",
    "temp.show()"
   ]
  },
  {
   "cell_type": "code",
   "execution_count": 13,
   "metadata": {},
   "outputs": [
    {
     "name": "stdout",
     "output_type": "stream",
     "text": [
      "root\n",
      " |-- Contract: string (nullable = true)\n",
      " |-- Most_Watch: string (nullable = true)\n",
      " |-- Customer_Taste: string (nullable = true)\n",
      " |-- Activeness: double (nullable = true)\n",
      "\n"
     ]
    }
   ],
   "source": [
    "temp.printSchema()"
   ]
  },
  {
   "cell_type": "code",
   "execution_count": 27,
   "metadata": {},
   "outputs": [
    {
     "data": {
      "text/plain": [
       "'\\nTạo bảng trong MySQL\\nCREATE TABLE output_homework5 (\\n    Contract VARCHAR(255),\\n    Most_Watch VARCHAR(255),\\n    Customer_Taste VARCHAR(255),\\n    Activeness DOUBLE\\n);\\n'"
      ]
     },
     "execution_count": 27,
     "metadata": {},
     "output_type": "execute_result"
    }
   ],
   "source": [
    "\"\"\"\n",
    "Tạo bảng trong MySQL\n",
    "CREATE TABLE output_homework5 (\n",
    "    Contract VARCHAR(255),\n",
    "    Most_Watch VARCHAR(255),\n",
    "    Customer_Taste VARCHAR(255),\n",
    "    Activeness DOUBLE\n",
    ");\n",
    "\"\"\""
   ]
  },
  {
   "cell_type": "code",
   "execution_count": 19,
   "metadata": {},
   "outputs": [],
   "source": [
    "jdbc_url = \"jdbc:mysql://localhost:3306/log_content\"\n",
    "connection_properties = {\n",
    "    \"user\": \"root\",\n",
    "    \"password\": \"toan1512@\",\n",
    "    \"driver\": \"com.mysql.jdbc.Driver\"\n",
    "}"
   ]
  },
  {
   "cell_type": "code",
   "execution_count": 20,
   "metadata": {},
   "outputs": [],
   "source": [
    "df = spark.read.jdbc(url=jdbc_url, table=\"output_homework5\", properties=connection_properties)"
   ]
  },
  {
   "cell_type": "code",
   "execution_count": 22,
   "metadata": {},
   "outputs": [
    {
     "name": "stdout",
     "output_type": "stream",
     "text": [
      "+--------+----------+--------------+----------+\n",
      "|Contract|Most_Watch|Customer_Taste|Activeness|\n",
      "+--------+----------+--------------+----------+\n",
      "+--------+----------+--------------+----------+\n",
      "\n"
     ]
    }
   ],
   "source": [
    "df.show()"
   ]
  },
  {
   "cell_type": "code",
   "execution_count": 25,
   "metadata": {},
   "outputs": [],
   "source": [
    "temp.write.jdbc(url=jdbc_url, table=\"output_homework5\", mode=\"overwrite\", properties=connection_properties)"
   ]
  },
  {
   "cell_type": "code",
   "execution_count": 26,
   "metadata": {},
   "outputs": [
    {
     "name": "stdout",
     "output_type": "stream",
     "text": [
      "+---------+----------+--------------+----------+\n",
      "| Contract|Most_Watch|Customer_Taste|Activeness|\n",
      "+---------+----------+--------------+----------+\n",
      "|AGAAA0370|        TV|            TV|       1.0|\n",
      "|AGAAA0392|        TV|            TV|       1.0|\n",
      "|AGAAA0407|     Movie|      Movie-TV|       1.0|\n",
      "|AGAAA0410|        TV|            TV|       1.0|\n",
      "|AGAAA0467|        TV|            TV|       1.0|\n",
      "|AGAAA0478|        TV|            TV|       1.0|\n",
      "|AGAAA0520|        TV|      Movie-TV|       1.0|\n",
      "|AGAAA0559|        TV|            TV|       0.5|\n",
      "|AGAAA0575|        TV|            TV|       1.0|\n",
      "|AGAAA0675|        TV|            TV|       1.0|\n",
      "|AGAAA0701|        TV|            TV|       1.0|\n",
      "|AGAAA0837|        TV|            TV|       1.0|\n",
      "|AGAAA0896|        TV|            TV|       1.0|\n",
      "|AGAAA0923|        TV|            TV|       1.0|\n",
      "|AGAAA0968|        TV|            TV|       0.5|\n",
      "|AGAAA0987|        TV|            TV|       1.0|\n",
      "|AGAAA0997|        TV|            TV|       1.0|\n",
      "|AGAAA1000|        TV|            TV|       0.5|\n",
      "|AGAAA1070|        TV|            TV|       0.5|\n",
      "|AGAAA1097|        TV|            TV|       1.0|\n",
      "+---------+----------+--------------+----------+\n",
      "only showing top 20 rows\n",
      "\n"
     ]
    }
   ],
   "source": [
    "df.show()"
   ]
  },
  {
   "cell_type": "code",
   "execution_count": null,
   "metadata": {},
   "outputs": [],
   "source": []
  }
 ],
 "metadata": {
  "kernelspec": {
   "display_name": "base",
   "language": "python",
   "name": "python3"
  },
  "language_info": {
   "codemirror_mode": {
    "name": "ipython",
    "version": 3
   },
   "file_extension": ".py",
   "mimetype": "text/x-python",
   "name": "python",
   "nbconvert_exporter": "python",
   "pygments_lexer": "ipython3",
   "version": "3.11.5"
  }
 },
 "nbformat": 4,
 "nbformat_minor": 2
}
